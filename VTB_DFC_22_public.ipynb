{
  "metadata": {
    "kernelspec": {
      "language": "python",
      "display_name": "Python 3",
      "name": "python3"
    },
    "language_info": {
      "name": "python",
      "version": "3.7.12",
      "mimetype": "text/x-python",
      "codemirror_mode": {
        "name": "ipython",
        "version": 3
      },
      "pygments_lexer": "ipython3",
      "nbconvert_exporter": "python",
      "file_extension": ".py"
    },
    "colab": {
      "name": "VTB_DFC_22_public.ipynb",
      "provenance": []
    }
  },
  "nbformat_minor": 0,
  "nbformat": 4,
  "cells": [
    {
      "cell_type": "markdown",
      "source": [
        "# Публичное решение задачи матчинга VTB DataFusion Contest 2022"
      ],
      "metadata": {
        "id": "clbGcWVpyoF-"
      }
    },
    {
      "cell_type": "code",
      "source": [
        "#!pip install catboost\n",
        "#!pip install shap"
      ],
      "metadata": {
        "id": "M1n9an7W0fPk"
      },
      "execution_count": null,
      "outputs": []
    },
    {
      "cell_type": "code",
      "source": [
        "import pandas as pd\n",
        "import numpy as np\n",
        "import gc\n",
        "import pickle\n",
        "import shap\n",
        "from catboost import CatBoostClassifier, CatBoostRanker, Pool"
      ],
      "metadata": {
        "_uuid": "8f2839f25d086af736a60e9eeb907d3b93b6e0e5",
        "_cell_guid": "b1076dfc-b9ad-4769-8c92-a6c4dae69d19",
        "execution": {
          "iopub.status.busy": "2022-05-05T11:14:14.389559Z",
          "iopub.execute_input": "2022-05-05T11:14:14.390653Z",
          "iopub.status.idle": "2022-05-05T11:14:18.055440Z",
          "shell.execute_reply.started": "2022-05-05T11:14:14.390516Z",
          "shell.execute_reply": "2022-05-05T11:14:18.054285Z"
        },
        "trusted": true,
        "id": "4fSqNQmNyoGA"
      },
      "execution_count": 3,
      "outputs": []
    },
    {
      "cell_type": "markdown",
      "source": [
        "# Загрузка и создание эмбеддингов по данным кликстрима"
      ],
      "metadata": {
        "id": "u31o5BT_yoGC"
      }
    },
    {
      "cell_type": "code",
      "source": [
        "chunksize = 10 ** 6\n",
        "tmp_lst = []\n",
        "with pd.read_csv('data/clickstream.csv', index_col='user_id', parse_dates=['timestamp'], dtype={\n",
        "    'user_id': 'category', 'cat_id': 'int16', 'new_uid': 'int32' \n",
        "}, chunksize=chunksize) as reader:\n",
        "    for chunk in reader:\n",
        "        tmp_lst.append(chunk)\n",
        "clickstream = pd.concat(tmp_lst) \n",
        "del tmp_lst"
      ],
      "metadata": {
        "id": "YGrunftt5vuW"
      },
      "execution_count": 5,
      "outputs": []
    },
    {
      "cell_type": "code",
      "source": [
        "# добавляем столбцы date, hour, weekday\n",
        "clickstream['date'] = clickstream['timestamp'].dt.date.astype('category')\n",
        "clickstream['hour'] = clickstream['timestamp'].dt.hour.astype('category')\n",
        "clickstream['weekday'] = clickstream['timestamp'].dt.dayofweek.astype('category')"
      ],
      "metadata": {
        "execution": {
          "iopub.status.busy": "2022-05-05T11:14:57.104613Z",
          "iopub.status.idle": "2022-05-05T11:14:57.105032Z",
          "shell.execute_reply.started": "2022-05-05T11:14:57.104806Z",
          "shell.execute_reply": "2022-05-05T11:14:57.104832Z"
        },
        "trusted": true,
        "id": "rmrOjEbDyoGE"
      },
      "execution_count": 6,
      "outputs": []
    },
    {
      "cell_type": "code",
      "source": [
        "# Генерим фичи из бэйзлайна\n",
        "clickstream_embed = clickstream.pivot_table(index = 'user_id', \n",
        "                            values=['timestamp'],\n",
        "                            columns=['cat_id'],\n",
        "                            aggfunc=['count']).fillna(0)"
      ],
      "metadata": {
        "execution": {
          "iopub.status.busy": "2022-05-05T11:14:57.106706Z",
          "iopub.status.idle": "2022-05-05T11:14:57.107138Z",
          "shell.execute_reply.started": "2022-05-05T11:14:57.106906Z",
          "shell.execute_reply": "2022-05-05T11:14:57.106932Z"
        },
        "trusted": true,
        "id": "Tbi7sg9jyoGE"
      },
      "execution_count": 7,
      "outputs": []
    },
    {
      "cell_type": "code",
      "source": [
        "clickstream_embed2 = clickstream.pivot_table(index = 'user_id', \n",
        "                            values=['timestamp'],\n",
        "                            columns=['date'],\n",
        "                            aggfunc=['count']).fillna(0)"
      ],
      "metadata": {
        "execution": {
          "iopub.status.busy": "2022-05-05T11:14:57.108371Z",
          "iopub.status.idle": "2022-05-05T11:14:57.108724Z",
          "shell.execute_reply.started": "2022-05-05T11:14:57.108552Z",
          "shell.execute_reply": "2022-05-05T11:14:57.108572Z"
        },
        "trusted": true,
        "id": "X10-t_4cyoGG"
      },
      "execution_count": 8,
      "outputs": []
    },
    {
      "cell_type": "code",
      "source": [
        "# Добавляем колличество уникальных устройств пользователя\n",
        "clickstream_embed3 = clickstream.pivot_table(index = 'user_id', \n",
        "                            values=['new_uid'],\n",
        "                            aggfunc=['nunique']).fillna(0)"
      ],
      "metadata": {
        "execution": {
          "iopub.status.busy": "2022-05-05T11:14:57.110569Z",
          "iopub.status.idle": "2022-05-05T11:14:57.111289Z",
          "shell.execute_reply.started": "2022-05-05T11:14:57.111055Z",
          "shell.execute_reply": "2022-05-05T11:14:57.111083Z"
        },
        "trusted": true,
        "id": "7N0HlqQ1yoGG"
      },
      "execution_count": 9,
      "outputs": []
    },
    {
      "cell_type": "code",
      "source": [
        "# разница между первым и последним входом\n",
        "clickstream_embed4 = clickstream.groupby('user_id')['timestamp'].apply(lambda x: np.max(x) - np.min(x)).dt.days.astype('int16').to_frame()"
      ],
      "metadata": {
        "execution": {
          "iopub.status.busy": "2022-05-05T11:14:57.112728Z",
          "iopub.status.idle": "2022-05-05T11:14:57.113406Z",
          "shell.execute_reply.started": "2022-05-05T11:14:57.113165Z",
          "shell.execute_reply": "2022-05-05T11:14:57.113196Z"
        },
        "trusted": true,
        "id": "owMWCBcTyoGH"
      },
      "execution_count": 10,
      "outputs": []
    },
    {
      "cell_type": "code",
      "source": [
        "# активность в конкретный час дня недели\n",
        "clickstream_embed5 = clickstream.pivot_table(index = 'user_id', \n",
        "                            values=['timestamp'],\n",
        "                            columns=['weekday','hour'],\n",
        "                            aggfunc=['count']).fillna(0)"
      ],
      "metadata": {
        "execution": {
          "iopub.status.busy": "2022-05-05T11:14:57.115400Z",
          "iopub.status.idle": "2022-05-05T11:14:57.116820Z",
          "shell.execute_reply.started": "2022-05-05T11:14:57.116501Z",
          "shell.execute_reply": "2022-05-05T11:14:57.116541Z"
        },
        "trusted": true,
        "id": "4NWMFy6KyoGI"
      },
      "execution_count": 11,
      "outputs": []
    },
    {
      "cell_type": "code",
      "source": [
        "clickstream_embed.columns = [f'rtk-{str(i[0])}-{str(i[2])}' for i in clickstream_embed.columns]\n",
        "clickstream_embed2.columns = [f'rtk-{str(i[0])}-{str(i[2])}' for i in clickstream_embed2.columns]\n",
        "clickstream_embed3.columns = [f'rtk-{str(i[0])}-{str(i[1])}' for i in clickstream_embed3.columns]\n",
        "clickstream_embed4.columns = [f'rtk-max_date_diff' for i in clickstream_embed4.columns]\n",
        "clickstream_embed5.columns = [f'rtk-{str(i[0])}-weekday-{str(i[2])}-nhour-{str(i[3])}' for i in clickstream_embed5.columns]"
      ],
      "metadata": {
        "execution": {
          "iopub.status.busy": "2022-05-05T11:14:57.118316Z",
          "iopub.status.idle": "2022-05-05T11:14:57.118692Z",
          "shell.execute_reply.started": "2022-05-05T11:14:57.118502Z",
          "shell.execute_reply": "2022-05-05T11:14:57.118528Z"
        },
        "trusted": true,
        "id": "czELfJL1yoGI"
      },
      "execution_count": 12,
      "outputs": []
    },
    {
      "cell_type": "code",
      "source": [
        "clickstream_embed = clickstream_embed.merge(clickstream_embed2, left_on='user_id', right_index=True).merge(\n",
        "                                            clickstream_embed3, left_on='user_id', right_index=True).merge(\n",
        "                                            clickstream_embed4, left_on='user_id', right_index=True).merge(\n",
        "                                            clickstream_embed5, left_on='user_id', right_index=True)\n",
        "\n",
        "clickstream_embed.loc[0] = np.empty(len(clickstream_embed.columns)) # добавляем user_id = 0\n",
        "\n",
        "del clickstream, clickstream_embed2, clickstream_embed3, clickstream_embed4, clickstream_embed5\n",
        "gc.collect()\n",
        "\n",
        "# оптимизация памяти из бэйзлайна (думаю можно на SparseDtype заменить)\n",
        "dtype_clickstream = list()\n",
        "for x in clickstream_embed.dtypes.tolist():\n",
        "    if x == 'int64' or x == 'int32' or x == 'int16':\n",
        "          dtype_clickstream.append('int16')\n",
        "    elif x == 'float64' or x == 'float32':\n",
        "          dtype_clickstream.append('float32')\n",
        "    else:\n",
        "          dtype_clickstream.append('object')\n",
        "\n",
        "dtype_clickstream = dict(zip(clickstream_embed.columns.tolist(),dtype_clickstream))\n",
        "clickstream_embed = clickstream_embed.astype(dtype_clickstream)"
      ],
      "metadata": {
        "execution": {
          "iopub.status.busy": "2022-05-05T11:14:57.119821Z",
          "iopub.status.idle": "2022-05-05T11:14:57.120204Z",
          "shell.execute_reply.started": "2022-05-05T11:14:57.120017Z",
          "shell.execute_reply": "2022-05-05T11:14:57.120039Z"
        },
        "trusted": true,
        "id": "hgDPiN_OyoGJ"
      },
      "execution_count": 13,
      "outputs": []
    },
    {
      "cell_type": "markdown",
      "source": [
        "# Загрузка и создание эмбеддингов по данным транзакций банка"
      ],
      "metadata": {
        "id": "sZ4kfLNDyoGK"
      }
    },
    {
      "cell_type": "code",
      "source": [
        "transactions = pd.read_csv('data/transactions.csv', index_col='user_id', \n",
        "                           parse_dates=['transaction_dttm'], \n",
        "                           dtype={\n",
        "    'user_id': 'category', 'mcc_code': 'int16', 'currency_rk': 'int8', 'transaction_amt': 'float32' \n",
        "})"
      ],
      "metadata": {
        "execution": {
          "iopub.status.busy": "2022-05-05T11:14:57.121586Z",
          "iopub.status.idle": "2022-05-05T11:14:57.122432Z",
          "shell.execute_reply.started": "2022-05-05T11:14:57.122210Z",
          "shell.execute_reply": "2022-05-05T11:14:57.122239Z"
        },
        "trusted": true,
        "id": "beotFhxoyoGL"
      },
      "execution_count": 14,
      "outputs": []
    },
    {
      "cell_type": "code",
      "source": [
        "# добавляем столбцы date, hour, weekday\n",
        "transactions['date'] = transactions['transaction_dttm'].dt.date.astype('category')\n",
        "transactions['hour'] = transactions['transaction_dttm'].dt.hour.astype('category')\n",
        "transactions['weekday'] = transactions['transaction_dttm'].dt.dayofweek.astype('category')"
      ],
      "metadata": {
        "execution": {
          "iopub.status.busy": "2022-05-05T11:14:57.123580Z",
          "iopub.status.idle": "2022-05-05T11:14:57.124255Z",
          "shell.execute_reply.started": "2022-05-05T11:14:57.123992Z",
          "shell.execute_reply": "2022-05-05T11:14:57.124041Z"
        },
        "trusted": true,
        "id": "xa4RF8SJyoGL"
      },
      "execution_count": 15,
      "outputs": []
    },
    {
      "cell_type": "code",
      "source": [
        "# Фичи из бэйзлайна\n",
        "bankclient_embed = transactions.pivot_table(index = 'user_id', \n",
        "                            values=['transaction_amt'],\n",
        "                            columns=['mcc_code'],\n",
        "                            aggfunc=['sum', 'mean', 'count']).fillna(0)\n",
        "bankclient_embed.columns = [f'{str(i[0])}-{str(i[2])}' for i in bankclient_embed.columns]"
      ],
      "metadata": {
        "execution": {
          "iopub.status.busy": "2022-05-05T11:14:57.125754Z",
          "iopub.status.idle": "2022-05-05T11:14:57.126195Z",
          "shell.execute_reply.started": "2022-05-05T11:14:57.125914Z",
          "shell.execute_reply": "2022-05-05T11:14:57.125931Z"
        },
        "trusted": true,
        "id": "RSpXwTgCyoGM"
      },
      "execution_count": 16,
      "outputs": []
    },
    {
      "cell_type": "code",
      "source": [
        "# Добавляем фичи по валютам транзакции\n",
        "bankclient_embed2 = transactions.pivot_table(index = 'user_id', \n",
        "                            values=['transaction_amt'],\n",
        "                            columns=['currency_rk'],\n",
        "                            aggfunc=['sum', 'mean', 'count']).fillna(0)\n",
        "bankclient_embed2.columns = [f'{str(i[0])}-{str(i[2])}' for i in bankclient_embed2.columns]"
      ],
      "metadata": {
        "execution": {
          "iopub.status.busy": "2022-05-05T11:14:57.127144Z",
          "iopub.status.idle": "2022-05-05T11:14:57.127447Z",
          "shell.execute_reply.started": "2022-05-05T11:14:57.127292Z",
          "shell.execute_reply": "2022-05-05T11:14:57.127308Z"
        },
        "trusted": true,
        "id": "Tm_W3-zCyoGM"
      },
      "execution_count": 17,
      "outputs": []
    },
    {
      "cell_type": "code",
      "source": [
        "bankclient_embed3 = transactions.pivot_table(index = 'user_id', \n",
        "                            values=['transaction_dttm'],\n",
        "                            columns=['date'],\n",
        "                            aggfunc=['count']).fillna(0)\n",
        "bankclient_embed3.columns = [f'{str(i[0])}-{str(i[2])}' for i in bankclient_embed3.columns]"
      ],
      "metadata": {
        "execution": {
          "iopub.status.busy": "2022-05-05T11:14:57.128548Z",
          "iopub.status.idle": "2022-05-05T11:14:57.128843Z",
          "shell.execute_reply.started": "2022-05-05T11:14:57.128691Z",
          "shell.execute_reply": "2022-05-05T11:14:57.128706Z"
        },
        "trusted": true,
        "id": "_oFkmk4zyoGN"
      },
      "execution_count": 18,
      "outputs": []
    },
    {
      "cell_type": "code",
      "source": [
        "bankclient_embed4 = transactions.pivot_table(index = 'user_id', \n",
        "                            values=['transaction_dttm'],\n",
        "                            columns=['weekday','hour'],\n",
        "                            aggfunc=['count']).fillna(0)\n",
        "bankclient_embed4.columns = [f'bnk-{str(i[0])}-weekday-{str(i[2])}-nhour-{str(i[3])}' for i in bankclient_embed4.columns]"
      ],
      "metadata": {
        "execution": {
          "iopub.status.busy": "2022-05-05T11:14:57.130329Z",
          "iopub.status.idle": "2022-05-05T11:14:57.130639Z",
          "shell.execute_reply.started": "2022-05-05T11:14:57.130479Z",
          "shell.execute_reply": "2022-05-05T11:14:57.130496Z"
        },
        "trusted": true,
        "id": "AKUIM0KUyoGN"
      },
      "execution_count": 19,
      "outputs": []
    },
    {
      "cell_type": "code",
      "source": [
        "bankclient_embed5 = transactions.groupby('user_id')['transaction_dttm'].apply(lambda x: np.max(x) - np.min(x)).dt.days.astype('int16').to_frame()\n",
        "bankclient_embed5.columns = [f'bnk-max_date_diff' for i in bankclient_embed5.columns]"
      ],
      "metadata": {
        "execution": {
          "iopub.status.busy": "2022-05-05T11:14:57.131679Z",
          "iopub.status.idle": "2022-05-05T11:14:57.132024Z",
          "shell.execute_reply.started": "2022-05-05T11:14:57.131835Z",
          "shell.execute_reply": "2022-05-05T11:14:57.131851Z"
        },
        "trusted": true,
        "id": "fLS1v6rHyoGN"
      },
      "execution_count": 20,
      "outputs": []
    },
    {
      "cell_type": "code",
      "source": [
        "bankclient_embed = bankclient_embed.merge(bankclient_embed2, left_on='user_id', right_index=True\n",
        "                                         ).merge(bankclient_embed3, left_on='user_id', right_index=True\n",
        "                                                ).merge(bankclient_embed4, left_on='user_id', right_index=True)\n",
        "\n",
        "del transactions, bankclient_embed2, bankclient_embed3, bankclient_embed4\n",
        "gc.collect()\n",
        "\n",
        "dtype_bankclient = list()\n",
        "for x in bankclient_embed.dtypes.tolist():\n",
        "    if x == 'int64' or x == 'int32' or x == 'int16':\n",
        "        dtype_bankclient.append('int16')\n",
        "    elif x == 'float64' or x == 'float32':\n",
        "        dtype_bankclient.append('float32')\n",
        "    else:\n",
        "        dtype_bankclient.append('object')\n",
        "    \n",
        "dtype_bankclient = dict(zip(bankclient_embed.columns.tolist(),dtype_bankclient))\n",
        "bankclient_embed = bankclient_embed.astype(dtype_bankclient)"
      ],
      "metadata": {
        "execution": {
          "iopub.status.busy": "2022-05-05T11:14:57.133885Z",
          "iopub.status.idle": "2022-05-05T11:14:57.134352Z",
          "shell.execute_reply.started": "2022-05-05T11:14:57.134166Z",
          "shell.execute_reply": "2022-05-05T11:14:57.134188Z"
        },
        "trusted": true,
        "id": "RKp2hIp1yoGO"
      },
      "execution_count": 21,
      "outputs": []
    },
    {
      "cell_type": "markdown",
      "source": [
        "# Загрузка и подготовка трэйна"
      ],
      "metadata": {
        "id": "VxvGEGIuyoGO"
      }
    },
    {
      "cell_type": "code",
      "source": [
        "tr_match = pd.read_csv('data/train_matching.csv')"
      ],
      "metadata": {
        "execution": {
          "iopub.status.busy": "2022-05-05T11:14:57.135394Z",
          "iopub.status.idle": "2022-05-05T11:14:57.135695Z",
          "shell.execute_reply.started": "2022-05-05T11:14:57.135541Z",
          "shell.execute_reply": "2022-05-05T11:14:57.135557Z"
        },
        "trusted": true,
        "id": "RqmhWh9JyoGO"
      },
      "execution_count": 23,
      "outputs": []
    },
    {
      "cell_type": "code",
      "source": [
        "# собираем списки уникальных id клиентов банка и РТК \n",
        "list_of_rtk = list(clickstream_embed.index.unique())\n",
        "list_of_bank= list(bankclient_embed.index.unique())\n",
        "len(list_of_bank), len(list_of_rtk)"
      ],
      "metadata": {
        "execution": {
          "iopub.status.busy": "2022-05-05T11:14:57.137972Z",
          "iopub.status.idle": "2022-05-05T11:14:57.138551Z",
          "shell.execute_reply.started": "2022-05-05T11:14:57.138328Z",
          "shell.execute_reply": "2022-05-05T11:14:57.138357Z"
        },
        "trusted": true,
        "colab": {
          "base_uri": "https://localhost:8080/"
        },
        "id": "Viz8tUteyoGP",
        "outputId": "0ced2883-5239-40f6-aceb-fc33161ae8c3"
      },
      "execution_count": 24,
      "outputs": [
        {
          "output_type": "execute_result",
          "data": {
            "text/plain": [
              "(22533, 19624)"
            ]
          },
          "metadata": {},
          "execution_count": 24
        }
      ]
    },
    {
      "cell_type": "code",
      "source": [
        "#склеиваем трэйн \n",
        "train = tr_match.merge(bankclient_embed, how='left', left_on='bank', right_index=True\n",
        "                                        ).merge(clickstream_embed, how='left', left_on='rtk', right_index=True).fillna(0)"
      ],
      "metadata": {
        "execution": {
          "iopub.status.busy": "2022-05-05T11:14:57.139593Z",
          "iopub.status.idle": "2022-05-05T11:14:57.140350Z",
          "shell.execute_reply.started": "2022-05-05T11:14:57.140132Z",
          "shell.execute_reply": "2022-05-05T11:14:57.140162Z"
        },
        "trusted": true,
        "id": "qzASW_kryoGP"
      },
      "execution_count": 25,
      "outputs": []
    },
    {
      "cell_type": "code",
      "source": [
        "# добавляем колонку с таргетами\n",
        "train['match'] = 1"
      ],
      "metadata": {
        "execution": {
          "iopub.status.busy": "2022-05-05T11:14:57.141642Z",
          "iopub.status.idle": "2022-05-05T11:14:57.141976Z",
          "shell.execute_reply.started": "2022-05-05T11:14:57.141805Z",
          "shell.execute_reply": "2022-05-05T11:14:57.141826Z"
        },
        "trusted": true,
        "id": "ymXrt35JyoGP"
      },
      "execution_count": 26,
      "outputs": []
    },
    {
      "cell_type": "code",
      "source": [
        "#запускаем, если захочется выкинуть все матчинги с 0\n",
        "train = train.loc[train['rtk'] != '0']"
      ],
      "metadata": {
        "execution": {
          "iopub.status.busy": "2022-05-05T11:14:57.143467Z",
          "iopub.status.idle": "2022-05-05T11:14:57.144182Z",
          "shell.execute_reply.started": "2022-05-05T11:14:57.143926Z",
          "shell.execute_reply": "2022-05-05T11:14:57.143957Z"
        },
        "trusted": true,
        "id": "Xm8jFuqtyoGP"
      },
      "execution_count": 27,
      "outputs": []
    },
    {
      "cell_type": "markdown",
      "source": [
        "### Обнаружение и удаление выбросов\n",
        "Так как предварительный просмотр данных показал наличие значительных выбросов по некоторым признакам, реализованы 2 функции для обнаружения и очистки датасета от них.</br>\n",
        "Регулируется гипер-параметром k. </br>\n",
        "IQR - хуже ищет выбросы, быстрее работает </br>\n",
        "SDM - лучше ищет, медленнее работает </br>"
      ],
      "metadata": {
        "id": "eb3sFIBDyoGQ"
      }
    },
    {
      "cell_type": "code",
      "source": [
        "full_list_of_features = [col for col in train.columns][2:-1]"
      ],
      "metadata": {
        "execution": {
          "iopub.status.busy": "2022-05-05T11:14:57.145838Z",
          "iopub.status.idle": "2022-05-05T11:14:57.146201Z",
          "shell.execute_reply.started": "2022-05-05T11:14:57.146010Z",
          "shell.execute_reply": "2022-05-05T11:14:57.146036Z"
        },
        "trusted": true,
        "id": "qM5J3YKeyoGQ"
      },
      "execution_count": 28,
      "outputs": []
    },
    {
      "cell_type": "code",
      "source": [
        "from numpy import percentile\n",
        "from tqdm.notebook import tqdm\n",
        "import copy\n",
        "def drop_outliers_iqr(data, features, k=20, verbose=True):\n",
        "    data_size_before = len(data)\n",
        "    source_data = copy.deepcopy(data)\n",
        "    for i in tqdm(features):\n",
        "        q25, q75 = percentile(source_data[i], 25), percentile(source_data[i], 75)\n",
        "        if not q25 or not q75:\n",
        "            continue\n",
        "        iqr = q75 - q25\n",
        "        cut_off = iqr * k\n",
        "        lower, upper = q25 - cut_off, q75 + cut_off\n",
        "        outliers = [x for x in source_data[i] if x < lower or x > upper]\n",
        "        if outliers:\n",
        "            data = data.loc[(data[i] >= lower) & (data[i] <= upper)]\n",
        "            if verbose:\n",
        "                print(f'Identified outliers in {i}: {len(outliers)}; Len dataset: {len(data)}')\n",
        "    print(f'Removed outliers: {data_size_before - len(data)}')\n",
        "    print(f'Dataset size before: {data_size_before}; Dataset size after: {len(data)}')\n",
        "    data = data.reset_index(drop=True)\n",
        "    return data"
      ],
      "metadata": {
        "execution": {
          "iopub.status.busy": "2022-05-05T11:14:57.147286Z",
          "iopub.status.idle": "2022-05-05T11:14:57.147607Z",
          "shell.execute_reply.started": "2022-05-05T11:14:57.147442Z",
          "shell.execute_reply": "2022-05-05T11:14:57.147462Z"
        },
        "trusted": true,
        "id": "b6_SfipHyoGQ"
      },
      "execution_count": 29,
      "outputs": []
    },
    {
      "cell_type": "code",
      "source": [
        "from numpy import std, mean\n",
        "import copy\n",
        "from tqdm.notebook import tqdm\n",
        "def drop_outliers_sdm(data, features, k=10, verbose=True):\n",
        "    data_size_before = len(data)\n",
        "    source_data = copy.deepcopy(data)\n",
        "    for i in tqdm(features):\n",
        "        data_mean, data_std = mean(source_data[i]), std(source_data[i])\n",
        "        cut_off = data_std * k\n",
        "        lower, upper = data_mean - cut_off, data_mean + cut_off\n",
        "        outliers = [x for x in source_data[i] if x < lower or x > upper]\n",
        "        if outliers:\n",
        "            data = data.loc[(data[i] >= lower) & (data[i] <= upper)]\n",
        "            if verbose:\n",
        "                print(f'Identified outliers in {i}: {len(outliers)}; Len dataset: {len(data)}')\n",
        "    print(f'Removed outliers: {data_size_before - len(data)}')\n",
        "    print(f'Dataset size before: {data_size_before}; Dataset size after: {len(data)}')\n",
        "    data = data.reset_index(drop=True)\n",
        "    return data"
      ],
      "metadata": {
        "execution": {
          "iopub.status.busy": "2022-05-05T11:14:57.148977Z",
          "iopub.status.idle": "2022-05-05T11:14:57.149651Z",
          "shell.execute_reply.started": "2022-05-05T11:14:57.149476Z",
          "shell.execute_reply": "2022-05-05T11:14:57.149500Z"
        },
        "trusted": true,
        "id": "PcScn9yJyoGQ"
      },
      "execution_count": 30,
      "outputs": []
    },
    {
      "cell_type": "code",
      "source": [
        "# Использование\n",
        "#train = drop_outliers_iqr(train, full_list_of_features)"
      ],
      "metadata": {
        "execution": {
          "iopub.status.busy": "2022-05-05T11:14:57.151506Z",
          "iopub.status.idle": "2022-05-05T11:14:57.152235Z",
          "shell.execute_reply.started": "2022-05-05T11:14:57.152017Z",
          "shell.execute_reply": "2022-05-05T11:14:57.152047Z"
        },
        "trusted": true,
        "id": "12_erkgryoGR"
      },
      "execution_count": 31,
      "outputs": []
    },
    {
      "cell_type": "markdown",
      "source": [
        "# Негативы\n",
        "Для реализации негативных матчингов можно использовать рандомную функцию из бэзлайна или воспользоваться функцией генерации \"умных\" негативов - наиболее близких по косинусному расстоянию соседей к сматченной паре. Чтобы Catboost учился находить минимальные различия между парами или для 2-х этапной модели."
      ],
      "metadata": {
        "id": "Wjor9utxyoGR"
      }
    },
    {
      "cell_type": "code",
      "source": [
        "# функция генерации негативных матчингов из бэйзлайна\n",
        "def gen_random_for_negative(x, k, list_of_uniq):\n",
        "    while True:\n",
        "        final_list = np.random.choice(list_of_uniq, size=k, replace=False)\n",
        "        if x not in final_list:\n",
        "            return final_list"
      ],
      "metadata": {
        "execution": {
          "iopub.status.busy": "2022-05-05T11:14:57.153598Z",
          "iopub.status.idle": "2022-05-05T11:14:57.154337Z",
          "shell.execute_reply.started": "2022-05-05T11:14:57.154112Z",
          "shell.execute_reply": "2022-05-05T11:14:57.154142Z"
        },
        "trusted": true,
        "id": "pCOx0I_TyoGR"
      },
      "execution_count": 32,
      "outputs": []
    },
    {
      "cell_type": "code",
      "source": [
        "# собираем negative train\n",
        "tr_match = train[['bank', 'rtk']]\n",
        "tr_match['negatives'] = tr_match['rtk'].apply(lambda x: gen_random_for_negative(x, 10, list_of_rtk))\n",
        "neg_train = tr_match[['bank', 'negatives']].explode('negatives')\n",
        "neg_train.columns = tr_match.columns[:-1]\n",
        "neg_train = neg_train.merge(bankclient_embed, how='left', left_on='bank', right_index=True\n",
        "                                        ).merge(clickstream_embed, how='left', left_on='rtk', right_index=True).fillna(0)\n",
        "neg_train['match'] = 0 # добавляем 0 таргеты"
      ],
      "metadata": {
        "execution": {
          "iopub.status.busy": "2022-05-05T11:14:57.155857Z",
          "iopub.status.idle": "2022-05-05T11:14:57.156245Z",
          "shell.execute_reply.started": "2022-05-05T11:14:57.156058Z",
          "shell.execute_reply": "2022-05-05T11:14:57.156079Z"
        },
        "trusted": true,
        "colab": {
          "base_uri": "https://localhost:8080/"
        },
        "id": "ZnV-sSDxyoGS",
        "outputId": "a56da2df-80d1-4cdc-d5ff-6043c7bb4588"
      },
      "execution_count": 33,
      "outputs": [
        {
          "output_type": "stream",
          "name": "stderr",
          "text": [
            "\n",
            "A value is trying to be set on a copy of a slice from a DataFrame.\n",
            "Try using .loc[row_indexer,col_indexer] = value instead\n",
            "\n",
            "See the caveats in the documentation: https://pandas.pydata.org/pandas-docs/stable/user_guide/indexing.html#returning-a-view-versus-a-copy\n"
          ]
        }
      ]
    },
    {
      "cell_type": "code",
      "source": [
        "# функция генерации умных негативов\n",
        "from sklearn.neighbors import NearestNeighbors\n",
        "\n",
        "knn = NearestNeighbors(n_neighbors=1, metric=\"cosine\")\n",
        "\n",
        "def get_smart_negatives(x, k, list_of_rtk, bnk_embed, rtk_embed, train):\n",
        "    temp = pd.DataFrame([x], columns=['bank'])\n",
        "    temp['rtk'] = temp['bank'].apply(lambda x: list_of_rtk)\n",
        "    temp = temp[['bank', 'rtk']].explode('rtk')\n",
        "    temp = temp.merge(bnk_embed, how='left', left_on='bank', right_index=True\n",
        "                                        ).merge(rtk_embed, how='left', left_on='rtk', right_index=True).fillna(0)\n",
        "    knn.fit(temp.iloc[:, 2:])\n",
        "    ind = knn.kneighbors(train.loc[train['bank'] == x].iloc[:, 2:-1], k + 1, return_distance=False)\n",
        "    return [list_of_rtk[i] for i in ind[0][1:]]"
      ],
      "metadata": {
        "execution": {
          "iopub.status.busy": "2022-05-05T11:14:57.157854Z",
          "iopub.status.idle": "2022-05-05T11:14:57.158241Z",
          "shell.execute_reply.started": "2022-05-05T11:14:57.158054Z",
          "shell.execute_reply": "2022-05-05T11:14:57.158074Z"
        },
        "trusted": true,
        "id": "h931d3oRyoGS"
      },
      "execution_count": 34,
      "outputs": []
    },
    {
      "cell_type": "code",
      "source": [
        "# Для ускорения генерации применимим библиотеку pandarallel\n",
        "# На платформе Kaggle занимает порядка 4-х часов\n",
        "'''from pandarallel import pandarallel\n",
        "pandarallel.initialize(progress_bar=True, nb_workers=4)\n",
        "# собираем smart negative train\n",
        "tr_match = train[['bank', 'rtk']]\n",
        "tr_match['negatives'] = tr_match['bank'].parallel_apply(lambda x: get_smart_negatives(x, 10, list_of_rtk, bankclient_embed, clickstream_embed, train))\n",
        "smart_neg_train = tr_match[['bank', 'negatives']].explode('negatives')\n",
        "smart_neg_train.columns = tr_match.columns[:-1]\n",
        "smart_neg_train = smart_neg_train.merge(bankclient_embed, how='left', left_on='bank', right_index=True\n",
        "                                        ).merge(clickstream_embed, how='left', left_on='rtk', right_index=True).fillna(0)\n",
        "smart_neg_train['match'] = 0 # добавляем 0 таргеты'''"
      ],
      "metadata": {
        "execution": {
          "iopub.status.busy": "2022-05-05T11:14:57.160590Z",
          "iopub.status.idle": "2022-05-05T11:14:57.160937Z",
          "shell.execute_reply.started": "2022-05-05T11:14:57.160754Z",
          "shell.execute_reply": "2022-05-05T11:14:57.160771Z"
        },
        "trusted": true,
        "colab": {
          "base_uri": "https://localhost:8080/",
          "height": 105
        },
        "id": "JIjI6g98yoGT",
        "outputId": "72764593-a41c-4162-8d5d-1a8062dcfd81"
      },
      "execution_count": 35,
      "outputs": [
        {
          "output_type": "execute_result",
          "data": {
            "text/plain": [
              "\"from pandarallel import pandarallel\\npandarallel.initialize(progress_bar=True, nb_workers=4)\\n# собираем smart negative train\\ntr_match = train[['bank', 'rtk']]\\ntr_match['negatives'] = tr_match['bank'].parallel_apply(lambda x: get_smart_negatives(x, 10, list_of_rtk, bankclient_embed, clickstream_embed, train))\\nsmart_neg_train = tr_match[['bank', 'negatives']].explode('negatives')\\nsmart_neg_train.columns = tr_match.columns[:-1]\\nsmart_neg_train = smart_neg_train.merge(bankclient_embed, how='left', left_on='bank', right_index=True\\n                                        ).merge(clickstream_embed, how='left', left_on='rtk', right_index=True).fillna(0)\\nsmart_neg_train['match'] = 0 # добавляем 0 таргеты\""
            ],
            "application/vnd.google.colaboratory.intrinsic+json": {
              "type": "string"
            }
          },
          "metadata": {},
          "execution_count": 35
        }
      ]
    },
    {
      "cell_type": "code",
      "source": [
        "# собираем позитивы и негативы в зависимости от примененной функции\n",
        "train = pd.concat((train, neg_train), ignore_index=True)\n",
        "train['match'].value_counts()"
      ],
      "metadata": {
        "execution": {
          "iopub.status.busy": "2022-05-05T11:14:57.161972Z",
          "iopub.status.idle": "2022-05-05T11:14:57.162343Z",
          "shell.execute_reply.started": "2022-05-05T11:14:57.162173Z",
          "shell.execute_reply": "2022-05-05T11:14:57.162192Z"
        },
        "trusted": true,
        "colab": {
          "base_uri": "https://localhost:8080/"
        },
        "id": "Lo9C5xq4yoGT",
        "outputId": "f42d9079-002b-4239-c902-3ebeb2e60b49"
      },
      "execution_count": 36,
      "outputs": [
        {
          "output_type": "execute_result",
          "data": {
            "text/plain": [
              "0    146710\n",
              "1     14671\n",
              "Name: match, dtype: int64"
            ]
          },
          "metadata": {},
          "execution_count": 36
        }
      ]
    },
    {
      "cell_type": "code",
      "source": [
        "# Оптимизируем трэйн по памяти\n",
        "dtype_train = list()\n",
        "for x in train.dtypes.tolist():\n",
        "    if x == 'int64' or x == 'int16':\n",
        "        dtype_train.append('int16')\n",
        "    elif x == 'float64' or x == 'float32':\n",
        "        dtype_train.append('float32')\n",
        "    else:\n",
        "        dtype_train.append('object')\n",
        "    \n",
        "dtype_train = dict(zip(train.columns.tolist(),dtype_train))\n",
        "train = train.astype(dtype_train)"
      ],
      "metadata": {
        "execution": {
          "iopub.status.busy": "2022-05-05T11:14:57.163383Z",
          "iopub.status.idle": "2022-05-05T11:14:57.163705Z",
          "shell.execute_reply.started": "2022-05-05T11:14:57.163542Z",
          "shell.execute_reply": "2022-05-05T11:14:57.163559Z"
        },
        "trusted": true,
        "id": "xBVXu-nhyoGT"
      },
      "execution_count": 37,
      "outputs": []
    },
    {
      "cell_type": "code",
      "source": [
        "# сохраняем трэйн\n",
        "with open('train.pkl', 'wb') as file:\n",
        "    pickle.dump(train, file)"
      ],
      "metadata": {
        "execution": {
          "iopub.status.busy": "2022-05-05T11:14:57.165083Z",
          "iopub.status.idle": "2022-05-05T11:14:57.165492Z",
          "shell.execute_reply.started": "2022-05-05T11:14:57.165301Z",
          "shell.execute_reply": "2022-05-05T11:14:57.165326Z"
        },
        "trusted": true,
        "id": "3G37fkGvyoGT"
      },
      "execution_count": 38,
      "outputs": []
    },
    {
      "cell_type": "code",
      "source": [
        "# здесь можно загрузить трэйн из файла, чтобы пропустить все предыдущие шаги\n",
        "#with open('./trainBaseline', 'rb') as file:\n",
        "    #train = pickle.load(file)"
      ],
      "metadata": {
        "execution": {
          "iopub.status.busy": "2022-05-05T11:47:20.077844Z",
          "iopub.execute_input": "2022-05-05T11:47:20.078533Z",
          "iopub.status.idle": "2022-05-05T11:47:23.267801Z",
          "shell.execute_reply.started": "2022-05-05T11:47:20.078493Z",
          "shell.execute_reply": "2022-05-05T11:47:23.266660Z"
        },
        "trusted": true,
        "id": "3IhCCGqwyoGU"
      },
      "execution_count": 39,
      "outputs": []
    },
    {
      "cell_type": "code",
      "source": [
        "# сохраняем список фичей для отправки решения\n",
        "full_list_of_features = [col for col in train.columns][2:-1]\n",
        "with open('full_list_of_features', 'wb') as file:\n",
        "    pickle.dump(full_list_of_features, file)"
      ],
      "metadata": {
        "execution": {
          "iopub.status.busy": "2022-05-05T11:16:57.368447Z",
          "iopub.execute_input": "2022-05-05T11:16:57.369069Z",
          "iopub.status.idle": "2022-05-05T11:16:57.375488Z",
          "shell.execute_reply.started": "2022-05-05T11:16:57.369023Z",
          "shell.execute_reply": "2022-05-05T11:16:57.374346Z"
        },
        "trusted": true,
        "id": "GlnOO2VQyoGU"
      },
      "execution_count": 40,
      "outputs": []
    },
    {
      "cell_type": "code",
      "source": [
        "del neg_train, tr_match\n",
        "gc.collect()"
      ],
      "metadata": {
        "execution": {
          "iopub.status.busy": "2022-05-05T11:14:57.169799Z",
          "iopub.status.idle": "2022-05-05T11:14:57.170338Z",
          "shell.execute_reply.started": "2022-05-05T11:14:57.170056Z",
          "shell.execute_reply": "2022-05-05T11:14:57.170085Z"
        },
        "trusted": true,
        "colab": {
          "base_uri": "https://localhost:8080/"
        },
        "id": "XGZnCLbjyoGU",
        "outputId": "085a5712-276b-4d38-cb04-c2fe54f213e7"
      },
      "execution_count": 41,
      "outputs": [
        {
          "output_type": "execute_result",
          "data": {
            "text/plain": [
              "153"
            ]
          },
          "metadata": {},
          "execution_count": 41
        }
      ]
    },
    {
      "cell_type": "markdown",
      "source": [
        "# Обучение моделей"
      ],
      "metadata": {
        "id": "Y_FVNlHCyoGU"
      }
    },
    {
      "cell_type": "code",
      "source": [
        "# делим на тренировочную и валидационную выборки\n",
        "from sklearn.model_selection import train_test_split\n",
        "\n",
        "X_train, X_val, y_train, y_val = train_test_split(train[full_list_of_features], train['match'], \n",
        "                                                       train_size=0.8, \n",
        "                                                       random_state=33)"
      ],
      "metadata": {
        "execution": {
          "iopub.status.busy": "2022-05-05T11:17:11.614945Z",
          "iopub.execute_input": "2022-05-05T11:17:11.615818Z",
          "iopub.status.idle": "2022-05-05T11:17:15.209511Z",
          "shell.execute_reply.started": "2022-05-05T11:17:11.615765Z",
          "shell.execute_reply": "2022-05-05T11:17:15.208747Z"
        },
        "trusted": true,
        "id": "Blp0Uh0CyoGV"
      },
      "execution_count": 42,
      "outputs": []
    },
    {
      "cell_type": "markdown",
      "source": [
        "## CatBoost Classifier"
      ],
      "metadata": {
        "id": "vOWVuEOLyoGV"
      }
    },
    {
      "cell_type": "code",
      "source": [
        "# Определяем параметры модели\n",
        "model = CatBoostClassifier(random_seed=9,\n",
        "                           iterations=5000,\n",
        "                           learning_rate=0.01,\n",
        "                           l2_leaf_reg=3,\n",
        "                           depth=5,\n",
        "                           #task_type=\"GPU\", # раскомментить, когда с GPU\n",
        "                           thread_count=-1,\n",
        "                           use_best_model=True,\n",
        "                           leaf_estimation_method='Newton',\n",
        "                           custom_loss=['Precision', 'Recall', 'F1', 'AUC']\n",
        "                                             )"
      ],
      "metadata": {
        "execution": {
          "iopub.status.busy": "2022-05-05T11:17:42.123218Z",
          "iopub.execute_input": "2022-05-05T11:17:42.123539Z",
          "iopub.status.idle": "2022-05-05T11:17:42.130799Z",
          "shell.execute_reply.started": "2022-05-05T11:17:42.123504Z",
          "shell.execute_reply": "2022-05-05T11:17:42.129112Z"
        },
        "trusted": true,
        "id": "9OgZs8TYyoGV"
      },
      "execution_count": 43,
      "outputs": []
    },
    {
      "cell_type": "code",
      "source": [
        "# запуск обучения\n",
        "model.fit(X_train, y_train,\n",
        "                    eval_set=(X_val, y_val),\n",
        "                    verbose=500, plot=False, early_stopping_rounds=600)\n",
        "\n",
        "print(model.get_best_score())"
      ],
      "metadata": {
        "execution": {
          "iopub.status.busy": "2022-05-05T11:17:45.468273Z",
          "iopub.execute_input": "2022-05-05T11:17:45.468588Z",
          "iopub.status.idle": "2022-05-05T11:43:58.794908Z",
          "shell.execute_reply.started": "2022-05-05T11:17:45.468555Z",
          "shell.execute_reply": "2022-05-05T11:43:58.793504Z"
        },
        "trusted": true,
        "colab": {
          "base_uri": "https://localhost:8080/"
        },
        "id": "FAVTn15eyoGV",
        "outputId": "4fc99713-8d09-495a-a866-3ef7d7b34236"
      },
      "execution_count": 44,
      "outputs": [
        {
          "output_type": "stream",
          "name": "stdout",
          "text": [
            "0:\tlearn: 0.6837722\ttest: 0.6838065\tbest: 0.6838065 (0)\ttotal: 790ms\tremaining: 1h 5m 51s\n",
            "500:\tlearn: 0.2964935\ttest: 0.3008738\tbest: 0.3008736 (499)\ttotal: 6m 2s\tremaining: 54m 11s\n",
            "1000:\tlearn: 0.2862908\ttest: 0.2924108\tbest: 0.2924108 (1000)\ttotal: 12m 32s\tremaining: 50m 7s\n",
            "1500:\tlearn: 0.2802244\ttest: 0.2880381\tbest: 0.2880365 (1499)\ttotal: 18m 38s\tremaining: 43m 26s\n",
            "2000:\tlearn: 0.2748741\ttest: 0.2843848\tbest: 0.2843842 (1999)\ttotal: 24m 51s\tremaining: 37m 15s\n",
            "2500:\tlearn: 0.2703462\ttest: 0.2816418\tbest: 0.2816418 (2500)\ttotal: 31m 11s\tremaining: 31m 9s\n",
            "3000:\tlearn: 0.2661250\ttest: 0.2793837\tbest: 0.2793837 (3000)\ttotal: 37m 22s\tremaining: 24m 53s\n",
            "3500:\tlearn: 0.2622468\ttest: 0.2774179\tbest: 0.2774179 (3500)\ttotal: 43m 42s\tremaining: 18m 42s\n",
            "4000:\tlearn: 0.2587695\ttest: 0.2758244\tbest: 0.2758244 (4000)\ttotal: 49m 51s\tremaining: 12m 27s\n",
            "4500:\tlearn: 0.2553675\ttest: 0.2742999\tbest: 0.2742998 (4499)\ttotal: 56m 5s\tremaining: 6m 13s\n",
            "4999:\tlearn: 0.2523419\ttest: 0.2730515\tbest: 0.2730515 (4999)\ttotal: 1h 2m 12s\tremaining: 0us\n",
            "\n",
            "bestTest = 0.2730515447\n",
            "bestIteration = 4999\n",
            "\n",
            "{'learn': {'Recall': 0.013761859988033165, 'F1': 0.027111223372905616, 'Logloss': 0.2523419165964946, 'Precision': 1.0}, 'validation': {'Recall': 0.0033647375504710633, 'F1': 0.006686726847208291, 'Logloss': 0.2730515447364021, 'AUC': 0.7683113828365202, 'Precision': 1.0}}\n"
          ]
        }
      ]
    },
    {
      "cell_type": "code",
      "source": [
        "# Отберем 300 наиболее важных фичей и обучим на них CBRanker\n",
        "fi = model.get_feature_importance(prettified=True)\n",
        "important_features = list(fi['Feature Id'][:300])\n",
        "fi[:50]"
      ],
      "metadata": {
        "execution": {
          "iopub.status.busy": "2022-05-05T11:44:43.179859Z",
          "iopub.execute_input": "2022-05-05T11:44:43.180293Z",
          "iopub.status.idle": "2022-05-05T11:44:43.231892Z",
          "shell.execute_reply.started": "2022-05-05T11:44:43.180250Z",
          "shell.execute_reply": "2022-05-05T11:44:43.230647Z"
        },
        "trusted": true,
        "colab": {
          "base_uri": "https://localhost:8080/",
          "height": 1000
        },
        "id": "82FmNCM4yoGW",
        "outputId": "d1093ea5-7647-4ca1-dd6c-1643081782d3"
      },
      "execution_count": 45,
      "outputs": [
        {
          "output_type": "execute_result",
          "data": {
            "text/plain": [
              "                      Feature Id  Importances\n",
              "0    rtk-count-weekday-6-nhour-1     3.516595\n",
              "1                  rtk-count-772     2.721433\n",
              "2   rtk-count-weekday-0-nhour-18     1.718224\n",
              "3    rtk-count-weekday-5-nhour-1     1.330998\n",
              "4                  rtk-count-592     1.293891\n",
              "5    bnk-count-weekday-5-nhour-0     1.283373\n",
              "6   bnk-count-weekday-4-nhour-23     1.162061\n",
              "7   rtk-count-weekday-1-nhour-19     1.084663\n",
              "8                  rtk-count-289     1.077049\n",
              "9   rtk-count-weekday-0-nhour-19     1.013602\n",
              "10   rtk-count-weekday-6-nhour-2     1.010069\n",
              "11                 rtk-count-153     1.002639\n",
              "12  bnk-count-weekday-1-nhour-13     0.988726\n",
              "13                 rtk-count-437     0.970329\n",
              "14                  rtk-count-68     0.946912\n",
              "15   bnk-count-weekday-6-nhour-0     0.908685\n",
              "16                    count-5735     0.898782\n",
              "17   bnk-count-weekday-5-nhour-1     0.869622\n",
              "18   bnk-count-weekday-6-nhour-1     0.849186\n",
              "19  rtk-count-weekday-2-nhour-18     0.846613\n",
              "20   rtk-count-weekday-5-nhour-0     0.787525\n",
              "21  bnk-count-weekday-2-nhour-14     0.759942\n",
              "22  bnk-count-weekday-5-nhour-23     0.716870\n",
              "23                      sum-5735     0.699111\n",
              "24   rtk-count-weekday-5-nhour-2     0.686921\n",
              "25                      sum-4111     0.665648\n",
              "26                     mean-4121     0.662992\n",
              "27   rtk-count-weekday-4-nhour-0     0.661605\n",
              "28  bnk-count-weekday-4-nhour-13     0.643584\n",
              "29  rtk-count-weekday-3-nhour-19     0.642909\n",
              "30                 rtk-count-316     0.639833\n",
              "31  rtk-count-weekday-6-nhour-19     0.627848\n",
              "32  bnk-count-weekday-3-nhour-23     0.612498\n",
              "33                 rtk-count-931     0.609556\n",
              "34   rtk-count-weekday-3-nhour-0     0.596126\n",
              "35  bnk-count-weekday-3-nhour-13     0.578112\n",
              "36   rtk-count-weekday-6-nhour-0     0.574646\n",
              "37  rtk-count-weekday-4-nhour-23     0.568703\n",
              "38                rtk-count-1457     0.544179\n",
              "39                 rtk-count-765     0.540417\n",
              "40                     mean-5735     0.521736\n",
              "41                    count-5945     0.520286\n",
              "42  rtk-count-weekday-1-nhour-18     0.508762\n",
              "43  rtk-count-weekday-6-nhour-18     0.505329\n",
              "44  rtk-count-weekday-2-nhour-19     0.503436\n",
              "45                 rtk-count-161     0.500959\n",
              "46  bnk-count-weekday-3-nhour-12     0.490364\n",
              "47  rtk-count-weekday-0-nhour-20     0.478799\n",
              "48  bnk-count-weekday-1-nhour-12     0.475463\n",
              "49                      sum-5411     0.472961"
            ],
            "text/html": [
              "\n",
              "  <div id=\"df-362ad697-3ffe-4f0e-a54f-1fd1eb14e2a9\">\n",
              "    <div class=\"colab-df-container\">\n",
              "      <div>\n",
              "<style scoped>\n",
              "    .dataframe tbody tr th:only-of-type {\n",
              "        vertical-align: middle;\n",
              "    }\n",
              "\n",
              "    .dataframe tbody tr th {\n",
              "        vertical-align: top;\n",
              "    }\n",
              "\n",
              "    .dataframe thead th {\n",
              "        text-align: right;\n",
              "    }\n",
              "</style>\n",
              "<table border=\"1\" class=\"dataframe\">\n",
              "  <thead>\n",
              "    <tr style=\"text-align: right;\">\n",
              "      <th></th>\n",
              "      <th>Feature Id</th>\n",
              "      <th>Importances</th>\n",
              "    </tr>\n",
              "  </thead>\n",
              "  <tbody>\n",
              "    <tr>\n",
              "      <th>0</th>\n",
              "      <td>rtk-count-weekday-6-nhour-1</td>\n",
              "      <td>3.516595</td>\n",
              "    </tr>\n",
              "    <tr>\n",
              "      <th>1</th>\n",
              "      <td>rtk-count-772</td>\n",
              "      <td>2.721433</td>\n",
              "    </tr>\n",
              "    <tr>\n",
              "      <th>2</th>\n",
              "      <td>rtk-count-weekday-0-nhour-18</td>\n",
              "      <td>1.718224</td>\n",
              "    </tr>\n",
              "    <tr>\n",
              "      <th>3</th>\n",
              "      <td>rtk-count-weekday-5-nhour-1</td>\n",
              "      <td>1.330998</td>\n",
              "    </tr>\n",
              "    <tr>\n",
              "      <th>4</th>\n",
              "      <td>rtk-count-592</td>\n",
              "      <td>1.293891</td>\n",
              "    </tr>\n",
              "    <tr>\n",
              "      <th>5</th>\n",
              "      <td>bnk-count-weekday-5-nhour-0</td>\n",
              "      <td>1.283373</td>\n",
              "    </tr>\n",
              "    <tr>\n",
              "      <th>6</th>\n",
              "      <td>bnk-count-weekday-4-nhour-23</td>\n",
              "      <td>1.162061</td>\n",
              "    </tr>\n",
              "    <tr>\n",
              "      <th>7</th>\n",
              "      <td>rtk-count-weekday-1-nhour-19</td>\n",
              "      <td>1.084663</td>\n",
              "    </tr>\n",
              "    <tr>\n",
              "      <th>8</th>\n",
              "      <td>rtk-count-289</td>\n",
              "      <td>1.077049</td>\n",
              "    </tr>\n",
              "    <tr>\n",
              "      <th>9</th>\n",
              "      <td>rtk-count-weekday-0-nhour-19</td>\n",
              "      <td>1.013602</td>\n",
              "    </tr>\n",
              "    <tr>\n",
              "      <th>10</th>\n",
              "      <td>rtk-count-weekday-6-nhour-2</td>\n",
              "      <td>1.010069</td>\n",
              "    </tr>\n",
              "    <tr>\n",
              "      <th>11</th>\n",
              "      <td>rtk-count-153</td>\n",
              "      <td>1.002639</td>\n",
              "    </tr>\n",
              "    <tr>\n",
              "      <th>12</th>\n",
              "      <td>bnk-count-weekday-1-nhour-13</td>\n",
              "      <td>0.988726</td>\n",
              "    </tr>\n",
              "    <tr>\n",
              "      <th>13</th>\n",
              "      <td>rtk-count-437</td>\n",
              "      <td>0.970329</td>\n",
              "    </tr>\n",
              "    <tr>\n",
              "      <th>14</th>\n",
              "      <td>rtk-count-68</td>\n",
              "      <td>0.946912</td>\n",
              "    </tr>\n",
              "    <tr>\n",
              "      <th>15</th>\n",
              "      <td>bnk-count-weekday-6-nhour-0</td>\n",
              "      <td>0.908685</td>\n",
              "    </tr>\n",
              "    <tr>\n",
              "      <th>16</th>\n",
              "      <td>count-5735</td>\n",
              "      <td>0.898782</td>\n",
              "    </tr>\n",
              "    <tr>\n",
              "      <th>17</th>\n",
              "      <td>bnk-count-weekday-5-nhour-1</td>\n",
              "      <td>0.869622</td>\n",
              "    </tr>\n",
              "    <tr>\n",
              "      <th>18</th>\n",
              "      <td>bnk-count-weekday-6-nhour-1</td>\n",
              "      <td>0.849186</td>\n",
              "    </tr>\n",
              "    <tr>\n",
              "      <th>19</th>\n",
              "      <td>rtk-count-weekday-2-nhour-18</td>\n",
              "      <td>0.846613</td>\n",
              "    </tr>\n",
              "    <tr>\n",
              "      <th>20</th>\n",
              "      <td>rtk-count-weekday-5-nhour-0</td>\n",
              "      <td>0.787525</td>\n",
              "    </tr>\n",
              "    <tr>\n",
              "      <th>21</th>\n",
              "      <td>bnk-count-weekday-2-nhour-14</td>\n",
              "      <td>0.759942</td>\n",
              "    </tr>\n",
              "    <tr>\n",
              "      <th>22</th>\n",
              "      <td>bnk-count-weekday-5-nhour-23</td>\n",
              "      <td>0.716870</td>\n",
              "    </tr>\n",
              "    <tr>\n",
              "      <th>23</th>\n",
              "      <td>sum-5735</td>\n",
              "      <td>0.699111</td>\n",
              "    </tr>\n",
              "    <tr>\n",
              "      <th>24</th>\n",
              "      <td>rtk-count-weekday-5-nhour-2</td>\n",
              "      <td>0.686921</td>\n",
              "    </tr>\n",
              "    <tr>\n",
              "      <th>25</th>\n",
              "      <td>sum-4111</td>\n",
              "      <td>0.665648</td>\n",
              "    </tr>\n",
              "    <tr>\n",
              "      <th>26</th>\n",
              "      <td>mean-4121</td>\n",
              "      <td>0.662992</td>\n",
              "    </tr>\n",
              "    <tr>\n",
              "      <th>27</th>\n",
              "      <td>rtk-count-weekday-4-nhour-0</td>\n",
              "      <td>0.661605</td>\n",
              "    </tr>\n",
              "    <tr>\n",
              "      <th>28</th>\n",
              "      <td>bnk-count-weekday-4-nhour-13</td>\n",
              "      <td>0.643584</td>\n",
              "    </tr>\n",
              "    <tr>\n",
              "      <th>29</th>\n",
              "      <td>rtk-count-weekday-3-nhour-19</td>\n",
              "      <td>0.642909</td>\n",
              "    </tr>\n",
              "    <tr>\n",
              "      <th>30</th>\n",
              "      <td>rtk-count-316</td>\n",
              "      <td>0.639833</td>\n",
              "    </tr>\n",
              "    <tr>\n",
              "      <th>31</th>\n",
              "      <td>rtk-count-weekday-6-nhour-19</td>\n",
              "      <td>0.627848</td>\n",
              "    </tr>\n",
              "    <tr>\n",
              "      <th>32</th>\n",
              "      <td>bnk-count-weekday-3-nhour-23</td>\n",
              "      <td>0.612498</td>\n",
              "    </tr>\n",
              "    <tr>\n",
              "      <th>33</th>\n",
              "      <td>rtk-count-931</td>\n",
              "      <td>0.609556</td>\n",
              "    </tr>\n",
              "    <tr>\n",
              "      <th>34</th>\n",
              "      <td>rtk-count-weekday-3-nhour-0</td>\n",
              "      <td>0.596126</td>\n",
              "    </tr>\n",
              "    <tr>\n",
              "      <th>35</th>\n",
              "      <td>bnk-count-weekday-3-nhour-13</td>\n",
              "      <td>0.578112</td>\n",
              "    </tr>\n",
              "    <tr>\n",
              "      <th>36</th>\n",
              "      <td>rtk-count-weekday-6-nhour-0</td>\n",
              "      <td>0.574646</td>\n",
              "    </tr>\n",
              "    <tr>\n",
              "      <th>37</th>\n",
              "      <td>rtk-count-weekday-4-nhour-23</td>\n",
              "      <td>0.568703</td>\n",
              "    </tr>\n",
              "    <tr>\n",
              "      <th>38</th>\n",
              "      <td>rtk-count-1457</td>\n",
              "      <td>0.544179</td>\n",
              "    </tr>\n",
              "    <tr>\n",
              "      <th>39</th>\n",
              "      <td>rtk-count-765</td>\n",
              "      <td>0.540417</td>\n",
              "    </tr>\n",
              "    <tr>\n",
              "      <th>40</th>\n",
              "      <td>mean-5735</td>\n",
              "      <td>0.521736</td>\n",
              "    </tr>\n",
              "    <tr>\n",
              "      <th>41</th>\n",
              "      <td>count-5945</td>\n",
              "      <td>0.520286</td>\n",
              "    </tr>\n",
              "    <tr>\n",
              "      <th>42</th>\n",
              "      <td>rtk-count-weekday-1-nhour-18</td>\n",
              "      <td>0.508762</td>\n",
              "    </tr>\n",
              "    <tr>\n",
              "      <th>43</th>\n",
              "      <td>rtk-count-weekday-6-nhour-18</td>\n",
              "      <td>0.505329</td>\n",
              "    </tr>\n",
              "    <tr>\n",
              "      <th>44</th>\n",
              "      <td>rtk-count-weekday-2-nhour-19</td>\n",
              "      <td>0.503436</td>\n",
              "    </tr>\n",
              "    <tr>\n",
              "      <th>45</th>\n",
              "      <td>rtk-count-161</td>\n",
              "      <td>0.500959</td>\n",
              "    </tr>\n",
              "    <tr>\n",
              "      <th>46</th>\n",
              "      <td>bnk-count-weekday-3-nhour-12</td>\n",
              "      <td>0.490364</td>\n",
              "    </tr>\n",
              "    <tr>\n",
              "      <th>47</th>\n",
              "      <td>rtk-count-weekday-0-nhour-20</td>\n",
              "      <td>0.478799</td>\n",
              "    </tr>\n",
              "    <tr>\n",
              "      <th>48</th>\n",
              "      <td>bnk-count-weekday-1-nhour-12</td>\n",
              "      <td>0.475463</td>\n",
              "    </tr>\n",
              "    <tr>\n",
              "      <th>49</th>\n",
              "      <td>sum-5411</td>\n",
              "      <td>0.472961</td>\n",
              "    </tr>\n",
              "  </tbody>\n",
              "</table>\n",
              "</div>\n",
              "      <button class=\"colab-df-convert\" onclick=\"convertToInteractive('df-362ad697-3ffe-4f0e-a54f-1fd1eb14e2a9')\"\n",
              "              title=\"Convert this dataframe to an interactive table.\"\n",
              "              style=\"display:none;\">\n",
              "        \n",
              "  <svg xmlns=\"http://www.w3.org/2000/svg\" height=\"24px\"viewBox=\"0 0 24 24\"\n",
              "       width=\"24px\">\n",
              "    <path d=\"M0 0h24v24H0V0z\" fill=\"none\"/>\n",
              "    <path d=\"M18.56 5.44l.94 2.06.94-2.06 2.06-.94-2.06-.94-.94-2.06-.94 2.06-2.06.94zm-11 1L8.5 8.5l.94-2.06 2.06-.94-2.06-.94L8.5 2.5l-.94 2.06-2.06.94zm10 10l.94 2.06.94-2.06 2.06-.94-2.06-.94-.94-2.06-.94 2.06-2.06.94z\"/><path d=\"M17.41 7.96l-1.37-1.37c-.4-.4-.92-.59-1.43-.59-.52 0-1.04.2-1.43.59L10.3 9.45l-7.72 7.72c-.78.78-.78 2.05 0 2.83L4 21.41c.39.39.9.59 1.41.59.51 0 1.02-.2 1.41-.59l7.78-7.78 2.81-2.81c.8-.78.8-2.07 0-2.86zM5.41 20L4 18.59l7.72-7.72 1.47 1.35L5.41 20z\"/>\n",
              "  </svg>\n",
              "      </button>\n",
              "      \n",
              "  <style>\n",
              "    .colab-df-container {\n",
              "      display:flex;\n",
              "      flex-wrap:wrap;\n",
              "      gap: 12px;\n",
              "    }\n",
              "\n",
              "    .colab-df-convert {\n",
              "      background-color: #E8F0FE;\n",
              "      border: none;\n",
              "      border-radius: 50%;\n",
              "      cursor: pointer;\n",
              "      display: none;\n",
              "      fill: #1967D2;\n",
              "      height: 32px;\n",
              "      padding: 0 0 0 0;\n",
              "      width: 32px;\n",
              "    }\n",
              "\n",
              "    .colab-df-convert:hover {\n",
              "      background-color: #E2EBFA;\n",
              "      box-shadow: 0px 1px 2px rgba(60, 64, 67, 0.3), 0px 1px 3px 1px rgba(60, 64, 67, 0.15);\n",
              "      fill: #174EA6;\n",
              "    }\n",
              "\n",
              "    [theme=dark] .colab-df-convert {\n",
              "      background-color: #3B4455;\n",
              "      fill: #D2E3FC;\n",
              "    }\n",
              "\n",
              "    [theme=dark] .colab-df-convert:hover {\n",
              "      background-color: #434B5C;\n",
              "      box-shadow: 0px 1px 3px 1px rgba(0, 0, 0, 0.15);\n",
              "      filter: drop-shadow(0px 1px 2px rgba(0, 0, 0, 0.3));\n",
              "      fill: #FFFFFF;\n",
              "    }\n",
              "  </style>\n",
              "\n",
              "      <script>\n",
              "        const buttonEl =\n",
              "          document.querySelector('#df-362ad697-3ffe-4f0e-a54f-1fd1eb14e2a9 button.colab-df-convert');\n",
              "        buttonEl.style.display =\n",
              "          google.colab.kernel.accessAllowed ? 'block' : 'none';\n",
              "\n",
              "        async function convertToInteractive(key) {\n",
              "          const element = document.querySelector('#df-362ad697-3ffe-4f0e-a54f-1fd1eb14e2a9');\n",
              "          const dataTable =\n",
              "            await google.colab.kernel.invokeFunction('convertToInteractive',\n",
              "                                                     [key], {});\n",
              "          if (!dataTable) return;\n",
              "\n",
              "          const docLinkHtml = 'Like what you see? Visit the ' +\n",
              "            '<a target=\"_blank\" href=https://colab.research.google.com/notebooks/data_table.ipynb>data table notebook</a>'\n",
              "            + ' to learn more about interactive tables.';\n",
              "          element.innerHTML = '';\n",
              "          dataTable['output_type'] = 'display_data';\n",
              "          await google.colab.output.renderOutput(dataTable, element);\n",
              "          const docLink = document.createElement('div');\n",
              "          docLink.innerHTML = docLinkHtml;\n",
              "          element.appendChild(docLink);\n",
              "        }\n",
              "      </script>\n",
              "    </div>\n",
              "  </div>\n",
              "  "
            ]
          },
          "metadata": {},
          "execution_count": 45
        }
      ]
    },
    {
      "cell_type": "code",
      "source": [
        "val_pool = Pool(X_val, y_val)\n",
        "shap_values = model.get_feature_importance(val_pool, type='ShapValues')[:, :-1]\n",
        "shap.summary_plot(shap_values, X_val)"
      ],
      "metadata": {
        "colab": {
          "base_uri": "https://localhost:8080/",
          "height": 585
        },
        "id": "XTspgbNk0FFL",
        "outputId": "84e71557-755f-491d-a95b-574006a63d0a"
      },
      "execution_count": 46,
      "outputs": [
        {
          "output_type": "display_data",
          "data": {
            "text/plain": [
              "<Figure size 576x684 with 2 Axes>"
            ],
            "image/png": "[encoded data removed]"
          },
          "metadata": {
            "needs_background": "light"
          }
        }
      ]
    },
    {
      "cell_type": "code",
      "source": [
        "# сохраняем список важных фичей для отправки решения\n",
        "with open('important_features_300', 'wb') as file:\n",
        "    pickle.dump(important_features, file)"
      ],
      "metadata": {
        "execution": {
          "iopub.status.busy": "2022-05-05T11:14:57.182932Z",
          "iopub.status.idle": "2022-05-05T11:14:57.183289Z",
          "shell.execute_reply.started": "2022-05-05T11:14:57.183117Z",
          "shell.execute_reply": "2022-05-05T11:14:57.183135Z"
        },
        "trusted": true,
        "id": "pGobEEsQyoGW"
      },
      "execution_count": 47,
      "outputs": []
    },
    {
      "cell_type": "code",
      "source": [
        "del X_train, X_val, y_train, y_val, val_pool, shap_values\n",
        "gc.collect()"
      ],
      "metadata": {
        "execution": {
          "iopub.status.busy": "2022-05-05T11:45:18.469941Z",
          "iopub.execute_input": "2022-05-05T11:45:18.470732Z",
          "iopub.status.idle": "2022-05-05T11:45:18.711042Z",
          "shell.execute_reply.started": "2022-05-05T11:45:18.470682Z",
          "shell.execute_reply": "2022-05-05T11:45:18.709435Z"
        },
        "trusted": true,
        "colab": {
          "base_uri": "https://localhost:8080/"
        },
        "id": "5XyT_3odyoGW",
        "outputId": "a2e8f98c-33b8-4f79-94b7-e77a243d2668"
      },
      "execution_count": 48,
      "outputs": [
        {
          "output_type": "execute_result",
          "data": {
            "text/plain": [
              "9180"
            ]
          },
          "metadata": {},
          "execution_count": 48
        }
      ]
    },
    {
      "cell_type": "markdown",
      "source": [
        "## CatBoost Ranker"
      ],
      "metadata": {
        "id": "tAjY1U-2yoGW"
      }
    },
    {
      "cell_type": "code",
      "source": [
        "# Сортируем трэйн и разбиваем на 2 выборки для Ранкера\n",
        "train = train.sort_values(by=['bank'])\n",
        "list_of_uniq_bank = train['bank'].unique()\n",
        "train_size = int(0.8 * len(list_of_uniq_bank))\n",
        "test = train[train['bank'].isin(list_of_uniq_bank[train_size:])]\n",
        "train = train[train['bank'].isin(list_of_uniq_bank[:train_size])]"
      ],
      "metadata": {
        "execution": {
          "iopub.status.busy": "2022-05-05T11:50:15.314303Z",
          "iopub.execute_input": "2022-05-05T11:50:15.314648Z",
          "iopub.status.idle": "2022-05-05T11:50:27.814685Z",
          "shell.execute_reply.started": "2022-05-05T11:50:15.314615Z",
          "shell.execute_reply": "2022-05-05T11:50:27.811167Z"
        },
        "trusted": true,
        "id": "Nz56CHeHyoGX"
      },
      "execution_count": 49,
      "outputs": []
    },
    {
      "cell_type": "code",
      "source": [
        "train_pool = Pool(\n",
        "    data=train[important_features],\n",
        "    label=train['match'].values,\n",
        "    group_id=train['bank'].values\n",
        ")\n",
        "\n",
        "test_pool = Pool(\n",
        "    data=test[important_features],\n",
        "    label=test['match'].values,\n",
        "    group_id=test['bank'].values\n",
        ")"
      ],
      "metadata": {
        "execution": {
          "iopub.status.busy": "2022-05-05T11:50:28.809906Z",
          "iopub.execute_input": "2022-05-05T11:50:28.810313Z",
          "iopub.status.idle": "2022-05-05T11:50:29.027739Z",
          "shell.execute_reply.started": "2022-05-05T11:50:28.810273Z",
          "shell.execute_reply": "2022-05-05T11:50:29.026902Z"
        },
        "trusted": true,
        "id": "u_09Z7BlyoGX"
      },
      "execution_count": 50,
      "outputs": []
    },
    {
      "cell_type": "code",
      "source": [
        "rank_model = CatBoostRanker(random_seed=9,\n",
        "                            iterations=8000,\n",
        "                            learning_rate=0.01,\n",
        "                            l2_leaf_reg=14,\n",
        "                            depth=4,\n",
        "                            #task_type=\"GPU\", # раскомментить, когда с GPU\n",
        "                            thread_count=-1,\n",
        "                            use_best_model=True,\n",
        "                            random_strength=1,\n",
        "                            leaf_estimation_method='Newton',\n",
        "                            loss_function=\"QuerySoftMax\",\n",
        "                            custom_metric=['AverageGain:top=1','Recall', \"Precision\", 'MRR', 'AUC'],\n",
        "                                             )"
      ],
      "metadata": {
        "execution": {
          "iopub.status.busy": "2022-05-05T11:51:29.123973Z",
          "iopub.execute_input": "2022-05-05T11:51:29.124355Z",
          "iopub.status.idle": "2022-05-05T11:51:29.130555Z",
          "shell.execute_reply.started": "2022-05-05T11:51:29.124315Z",
          "shell.execute_reply": "2022-05-05T11:51:29.129552Z"
        },
        "trusted": true,
        "id": "zlDBEoC9yoGX"
      },
      "execution_count": 51,
      "outputs": []
    },
    {
      "cell_type": "code",
      "source": [
        "rank_model.fit(train_pool, eval_set=test_pool, early_stopping_rounds=1000,\n",
        "                    verbose=500, plot=False)\n",
        "\n",
        "print(rank_model.get_best_score())"
      ],
      "metadata": {
        "execution": {
          "iopub.status.busy": "2022-05-05T11:51:32.091297Z",
          "iopub.execute_input": "2022-05-05T11:51:32.091647Z",
          "iopub.status.idle": "2022-05-05T12:03:42.786691Z",
          "shell.execute_reply.started": "2022-05-05T11:51:32.091610Z",
          "shell.execute_reply": "2022-05-05T12:03:42.785390Z"
        },
        "trusted": true,
        "colab": {
          "base_uri": "https://localhost:8080/"
        },
        "id": "K_FhNdqZyoGY",
        "outputId": "ed704c0a-c4ca-4a8f-c09c-ac8ce3826e8c"
      },
      "execution_count": 52,
      "outputs": [
        {
          "output_type": "stream",
          "name": "stdout",
          "text": [
            "0:\tlearn: 2.3975780\ttest: 2.3976128\tbest: 2.3976128 (0)\ttotal: 244ms\tremaining: 32m 29s\n",
            "500:\tlearn: 2.2357235\ttest: 2.2508035\tbest: 2.2508035 (500)\ttotal: 1m 29s\tremaining: 22m 14s\n",
            "1000:\tlearn: 2.1481426\ttest: 2.1763439\tbest: 2.1763439 (1000)\ttotal: 2m 57s\tremaining: 20m 42s\n",
            "1500:\tlearn: 2.0797311\ttest: 2.1221150\tbest: 2.1221150 (1500)\ttotal: 4m 26s\tremaining: 19m 13s\n",
            "2000:\tlearn: 2.0257037\ttest: 2.0834308\tbest: 2.0834308 (2000)\ttotal: 5m 55s\tremaining: 17m 44s\n",
            "2500:\tlearn: 1.9842434\ttest: 2.0557632\tbest: 2.0557632 (2500)\ttotal: 7m 22s\tremaining: 16m 12s\n",
            "3000:\tlearn: 1.9500716\ttest: 2.0345790\tbest: 2.0345790 (3000)\ttotal: 8m 49s\tremaining: 14m 42s\n",
            "3500:\tlearn: 1.9185152\ttest: 2.0164444\tbest: 2.0164444 (3500)\ttotal: 10m 21s\tremaining: 13m 18s\n",
            "4000:\tlearn: 1.8901437\ttest: 2.0011835\tbest: 2.0011835 (4000)\ttotal: 11m 47s\tremaining: 11m 47s\n",
            "4500:\tlearn: 1.8617509\ttest: 1.9859694\tbest: 1.9859694 (4500)\ttotal: 13m 14s\tremaining: 10m 17s\n",
            "5000:\tlearn: 1.8356726\ttest: 1.9730825\tbest: 1.9730825 (5000)\ttotal: 14m 41s\tremaining: 8m 48s\n",
            "5500:\tlearn: 1.8114006\ttest: 1.9615339\tbest: 1.9615339 (5500)\ttotal: 16m 7s\tremaining: 7m 19s\n",
            "6000:\tlearn: 1.7902052\ttest: 1.9525644\tbest: 1.9525643 (5999)\ttotal: 17m 33s\tremaining: 5m 51s\n",
            "6500:\tlearn: 1.7687449\ttest: 1.9436384\tbest: 1.9436384 (6500)\ttotal: 18m 59s\tremaining: 4m 22s\n",
            "7000:\tlearn: 1.7487287\ttest: 1.9356359\tbest: 1.9356359 (7000)\ttotal: 20m 27s\tremaining: 2m 55s\n",
            "7500:\tlearn: 1.7292912\ttest: 1.9280142\tbest: 1.9280068 (7498)\ttotal: 21m 53s\tremaining: 1m 27s\n",
            "7999:\tlearn: 1.7099129\ttest: 1.9205191\tbest: 1.9205191 (7999)\ttotal: 23m 19s\tremaining: 0us\n",
            "\n",
            "bestTest = 1.920519137\n",
            "bestIteration = 7999\n",
            "\n",
            "{'learn': {'Recall': 0.8052999318336742, 'AverageGain:top=1': 0.47920927062031354, 'MRR': 0.6519020267678274, 'QuerySoftMax': 1.7099128975884264, 'Precision': 0.2271896493675148}, 'validation': {'Recall': 0.7645655877342419, 'AverageGain:top=1': 0.3403747870528109, 'MRR': 0.540392867590481, 'QuerySoftMax': 1.9205191369192003, 'AUC': 0.7820895553575626, 'Precision': 0.19589675711449372}}\n"
          ]
        }
      ]
    },
    {
      "cell_type": "code",
      "source": [
        "# Посмотрим на 50 предсказаний Ранкера\n",
        "# Как видно, метод predict выдает числа от -10 до 10, а не классы 1, 0\n",
        "for i, j in zip (rank_model.predict(test[important_features].iloc[10:60,:]), test.iloc[10:60,-1]):\n",
        "    print(i , j)"
      ],
      "metadata": {
        "execution": {
          "iopub.status.busy": "2022-05-05T12:07:43.525830Z",
          "iopub.execute_input": "2022-05-05T12:07:43.526255Z",
          "iopub.status.idle": "2022-05-05T12:07:43.592565Z",
          "shell.execute_reply.started": "2022-05-05T12:07:43.526215Z",
          "shell.execute_reply": "2022-05-05T12:07:43.589560Z"
        },
        "trusted": true,
        "colab": {
          "base_uri": "https://localhost:8080/"
        },
        "id": "OCOP0PT4yoGY",
        "outputId": "1e39ed1f-e1b4-4921-d955-b23b9b176ece"
      },
      "execution_count": 53,
      "outputs": [
        {
          "output_type": "stream",
          "name": "stdout",
          "text": [
            "0.3901774103261323 0\n",
            "-3.342571425268801 0\n",
            "0.31012327763741315 0\n",
            "0.058324864900840726 0\n",
            "0.23721323378947043 0\n",
            "0.22303807636320788 1\n",
            "-1.4289561762950174 0\n",
            "-1.69825053004126 0\n",
            "-0.5979910453309863 0\n",
            "0.2968094659440819 0\n",
            "-0.43615611916199154 0\n",
            "-0.9713502739464743 0\n",
            "1.324119776080129 1\n",
            "0.18746497578227253 0\n",
            "0.8284055115332418 0\n",
            "-0.09979317280825913 0\n",
            "1.2708382792946407 0\n",
            "-1.6394669342088801 0\n",
            "-2.1043458023764328 0\n",
            "-1.4112586367250721 0\n",
            "-2.3455202652483713 0\n",
            "-1.0064451834894141 0\n",
            "0.41995394761149996 0\n",
            "0.4115117403145248 0\n",
            "0.22426059987719996 0\n",
            "0.08480660285507986 0\n",
            "0.5503248617539814 0\n",
            "0.6648207688826423 1\n",
            "-0.24350329625978792 0\n",
            "-0.19518465724411238 0\n",
            "-1.5948725497911116 0\n",
            "0.12599523907734747 0\n",
            "-1.5189922168643668 0\n",
            "0.43954664672145666 0\n",
            "-0.2214912428095266 0\n",
            "-0.8735483226179565 0\n",
            "-0.7819111349517732 0\n",
            "-3.195371861087849 0\n",
            "1.4173535878386223 0\n",
            "0.16055376006001082 0\n",
            "-0.018074161210143457 0\n",
            "0.8459852599213015 0\n",
            "-0.11620093119911795 0\n",
            "1.4634700919855945 1\n",
            "-1.210571238108203 0\n",
            "-0.2336770480933472 1\n",
            "-0.7492321807651099 0\n",
            "-0.3635016575658664 0\n",
            "-1.425379773649698 0\n",
            "-0.2216374078001836 0\n"
          ]
        }
      ]
    },
    {
      "cell_type": "code",
      "source": [
        "rank_model.save_model('./rank_model.cbm',\n",
        "           format=\"cbm\",\n",
        "           export_parameters=None,\n",
        "           pool=None)"
      ],
      "metadata": {
        "execution": {
          "iopub.status.busy": "2022-05-05T11:14:57.193672Z",
          "iopub.status.idle": "2022-05-05T11:14:57.193985Z",
          "shell.execute_reply.started": "2022-05-05T11:14:57.193828Z",
          "shell.execute_reply": "2022-05-05T11:14:57.193845Z"
        },
        "trusted": true,
        "id": "WikzL6XXyoGY"
      },
      "execution_count": 54,
      "outputs": []
    },
    {
      "cell_type": "markdown",
      "source": [
        "# Локальная валидация\n",
        "Посчитаем метрики для локальной валидации модели"
      ],
      "metadata": {
        "id": "yyL7CCITyoGY"
      }
    },
    {
      "cell_type": "code",
      "source": [
        "# формируем эмбединги для транзакций и кликстрима\n",
        "banklist_val_embed = test.iloc[:,2:bankclient_embed.shape[1]+2]\n",
        "banklist_val_embed['bank'] = [f'{i+1}_bank' for i in range(len(banklist_val_embed))]\n",
        "\n",
        "clickstream_val_embed = test.iloc[:,bankclient_embed.shape[1]+2:]\n",
        "clickstream_val_embed['rtk'] = [f'{i+1}_rtk' for i in range(len(clickstream_val_embed))]"
      ],
      "metadata": {
        "trusted": true,
        "id": "LU9gw7aTyoGY"
      },
      "execution_count": 55,
      "outputs": []
    },
    {
      "cell_type": "code",
      "source": [
        "# соответствия между транзакциями и кликстримами\n",
        "matching_df = pd.DataFrame(data={'bank': banklist_val_embed['bank'].values,\n",
        "                                 'rtk': clickstream_val_embed['rtk'].values,\n",
        "                                 'match': test['match']}) # match обозначает наличие соответствия bank-rtk\n",
        "\n",
        "clickstream_val_embed.set_index('rtk', inplace=True)\n",
        "banklist_val_embed.set_index('bank', inplace=True)\n",
        "matching_df = matching_df[matching_df['match'] == 1] # оставляем транзакции, у которых есть пара кликстима"
      ],
      "metadata": {
        "execution": {
          "iopub.status.busy": "2022-05-05T11:14:57.198476Z",
          "iopub.status.idle": "2022-05-05T11:14:57.198835Z",
          "shell.execute_reply.started": "2022-05-05T11:14:57.198666Z",
          "shell.execute_reply": "2022-05-05T11:14:57.198683Z"
        },
        "trusted": true,
        "id": "-vRWE7YgyoGZ"
      },
      "execution_count": 56,
      "outputs": []
    },
    {
      "cell_type": "code",
      "source": [
        "list_of_rtk = list(matching_df['rtk'].values)\n",
        "list_of_bank = list(matching_df['bank'].values)"
      ],
      "metadata": {
        "execution": {
          "iopub.status.busy": "2022-05-05T11:14:57.200642Z",
          "iopub.status.idle": "2022-05-05T11:14:57.200964Z",
          "shell.execute_reply.started": "2022-05-05T11:14:57.200802Z",
          "shell.execute_reply": "2022-05-05T11:14:57.200818Z"
        },
        "trusted": true,
        "id": "CHHEsZI7yoGZ"
      },
      "execution_count": 57,
      "outputs": []
    },
    {
      "cell_type": "markdown",
      "source": [
        "### Метрики"
      ],
      "metadata": {
        "id": "DteAEqRNyoGZ"
      }
    },
    {
      "cell_type": "code",
      "source": [
        "def Precision_at100(preds, target):\n",
        "    \n",
        "    return np.mean([1 if t in p[1][:100] else 0 for p, t in zip(preds, target)])\n",
        "\n",
        "\n",
        "def MRR_at100(preds, target):\n",
        "    \n",
        "    return np.mean([1/(p[1][:100].index(t)+1) if t in p[1][:100] else 0\n",
        "                    for p, t in zip(preds, target)])\n",
        "\n",
        "def R1(preds, target):\n",
        "    '''\n",
        "    Params:\n",
        "    preds: numpy.ndarray which contains\n",
        "           structures: [vtb_user, [candidates...]]\n",
        "    target: list of values\n",
        "    '''\n",
        "    precision = Precision_at100(preds,target)\n",
        "    mrr = MRR_at100(preds, target)\n",
        "    R1 = 2*precision*mrr/(precision+mrr)\n",
        "    print('Precision@100:', precision, 'MRR@100:',\n",
        "                 mrr, 'R1:', R1)\n",
        "    return R1"
      ],
      "metadata": {
        "execution": {
          "iopub.status.busy": "2022-05-05T11:14:57.202081Z",
          "iopub.status.idle": "2022-05-05T11:14:57.202387Z",
          "shell.execute_reply.started": "2022-05-05T11:14:57.202232Z",
          "shell.execute_reply": "2022-05-05T11:14:57.202249Z"
        },
        "trusted": true,
        "id": "4JS-9tlzyoGZ"
      },
      "execution_count": 58,
      "outputs": []
    },
    {
      "cell_type": "code",
      "source": [
        "# инференс на валидационных данных; случай, в котором все транзакции имеют соответствие кликстрима\n",
        "submission_val = []\n",
        "submission = pd.DataFrame(matching_df['bank'], columns=['bank'])\n",
        "submission['rtk'] = submission['bank'].apply(lambda x: list_of_rtk)\n",
        "\n",
        "batch_size = 50\n",
        "num_of_batches = int((len(banklist_val_embed))/batch_size)+1\n",
        "\n",
        "for i in range(num_of_batches):\n",
        "    bank_ids = list_of_bank[(i*batch_size):((i+1)*batch_size)]\n",
        "    if len(bank_ids) != 0:\n",
        "        part_of_submit = submission[submission['bank'].isin(bank_ids)].explode('rtk')\n",
        "        part_of_submit = part_of_submit.merge(banklist_val_embed, how='left', left_on='bank', right_index=True\n",
        "                                    ).merge(clickstream_val_embed, how='left', left_on='rtk', right_index=True).fillna(0)\n",
        "        for i in full_list_of_features:\n",
        "            if i not in part_of_submit.columns:\n",
        "                part_of_submit[i] = 0\n",
        "        \n",
        "        # у Ранкера нет метода predict_proba!\n",
        "        part_of_submit['predicts'] = rank_model.predict(part_of_submit[full_list_of_features])\n",
        "        \n",
        "        part_of_submit = part_of_submit.sort_values(by=['bank', 'predicts'], ascending=False).reset_index(drop=True)\n",
        "        part_of_submit = part_of_submit.pivot_table(index='bank', values='rtk', aggfunc=list)\n",
        "        part_of_submit['rtk'] = part_of_submit['rtk'].apply(lambda x: x[:100])\n",
        "        part_of_submit['bank'] = part_of_submit.index\n",
        "        part_of_submit = part_of_submit[['bank', 'rtk']]\n",
        "        submission_val.extend(part_of_submit.values)\n",
        "\n",
        "targets = [matching_df[matching_df['bank']==x[0]]['rtk'].values[0] for x in submission_val]\n",
        "r1 = R1(submission_val, targets)"
      ],
      "metadata": {
        "execution": {
          "iopub.status.busy": "2022-05-05T11:14:57.203606Z",
          "iopub.status.idle": "2022-05-05T11:14:57.203897Z",
          "shell.execute_reply.started": "2022-05-05T11:14:57.203749Z",
          "shell.execute_reply": "2022-05-05T11:14:57.203764Z"
        },
        "trusted": true,
        "colab": {
          "base_uri": "https://localhost:8080/"
        },
        "id": "JQw4D1YvyoGa",
        "outputId": "aeb7aa2d-6266-4281-8127-a59603039303"
      },
      "execution_count": 59,
      "outputs": [
        {
          "output_type": "stream",
          "name": "stdout",
          "text": [
            "Precision@100: 0.2221465076660988 MRR@100: 0.024659928571836097 R1: 0.044392010962369166\n"
          ]
        }
      ]
    }
  ]
}